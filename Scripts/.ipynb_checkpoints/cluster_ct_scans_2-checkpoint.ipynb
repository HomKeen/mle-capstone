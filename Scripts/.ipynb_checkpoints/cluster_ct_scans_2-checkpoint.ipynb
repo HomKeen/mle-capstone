{
 "cells": [
  {
   "cell_type": "code",
   "execution_count": 1,
   "id": "c7630988-cae4-47d0-baaf-917ef84bfba6",
   "metadata": {},
   "outputs": [],
   "source": [
    "import pydicom as dcm\n",
    "import csv\n",
    "from joblib import Parallel, delayed\n",
    "from tqdm import tqdm\n",
    "import os"
   ]
  },
  {
   "cell_type": "code",
   "execution_count": 7,
   "id": "1312ad32-85d8-4f6a-80d5-9fcce694f1e5",
   "metadata": {},
   "outputs": [],
   "source": [
    "img_coords = []\n",
    "train_img_dir = '/home/kwhom/rsna-intracranial-hemorrhage-detection/stage_2_train/'\n",
    "test_img_dir = '/home/kwhom/rsna-intracranial-hemorrhage-detection/stage_2_test/'\n",
    "out_train_path = '/home/jupyter/rsna-intracranial-hemorrhage-detection/train_ct_coords.csv'\n",
    "out_test_path = '/home/jupyter/rsna-intracranial-hemorrhage-detection/test_ct_coords.csv'"
   ]
  },
  {
   "cell_type": "code",
   "execution_count": 8,
   "id": "fde9ebe5-90c3-48db-b857-c10e3789e7d3",
   "metadata": {},
   "outputs": [],
   "source": [
    "def process_coord(img_dir, img_name):\n",
    "    dicom = dcm.dcmread(img_dir+img_name)\n",
    "    img_id, coords = str(dicom.SOPInstanceUID), list(dicom.ImagePositionPatient)\n",
    "    del dicom\n",
    "    img_coords.append([img_id] + coords)\n",
    "    del img_id, coords\n",
    "    \n",
    "def store_coords(img_dir, out_path):\n",
    "    Parallel(n_jobs=12, backend='threading', batch_size=5, require='sharedmem')(delayed(process_coord)(img_dir, img_name) for img_name in tqdm(os.listdir(img_dir)))\n",
    "    \n",
    "    global img_coords\n",
    "    with open(out_path, 'w') as output:\n",
    "        writer = csv.writer(output)\n",
    "        for row in tqdm(img_coords):\n",
    "            writer.writerow(row)\n",
    "    img_coords = []\n",
    "            "
   ]
  },
  {
   "cell_type": "code",
   "execution_count": 9,
   "id": "440aecd2-8b2a-4499-983a-293589551529",
   "metadata": {},
   "outputs": [
    {
     "name": "stderr",
     "output_type": "stream",
     "text": [
      "100%|██████████| 121232/121232 [01:25<00:00, 1413.78it/s]\n",
      "100%|██████████| 121232/121232 [00:00<00:00, 492607.13it/s]\n"
     ]
    }
   ],
   "source": [
    "# store_coords(train_img_dir, out_train_path)\n",
    "store_coords(test_img_dir, out_test_path)"
   ]
  },
  {
   "cell_type": "code",
   "execution_count": null,
   "id": "a86033bc-8d8e-4bfb-91f8-eeec8537c4b3",
   "metadata": {},
   "outputs": [],
   "source": []
  }
 ],
 "metadata": {
  "environment": {
   "kernel": "python3",
   "name": "tf2-gpu.2-7.m86",
   "type": "gcloud",
   "uri": "gcr.io/deeplearning-platform-release/tf2-gpu.2-7:m86"
  },
  "kernelspec": {
   "display_name": "Python 3 (ipykernel)",
   "language": "python",
   "name": "python3"
  },
  "language_info": {
   "codemirror_mode": {
    "name": "ipython",
    "version": 3
   },
   "file_extension": ".py",
   "mimetype": "text/x-python",
   "name": "python",
   "nbconvert_exporter": "python",
   "pygments_lexer": "ipython3",
   "version": "3.9.7"
  }
 },
 "nbformat": 4,
 "nbformat_minor": 5
}
