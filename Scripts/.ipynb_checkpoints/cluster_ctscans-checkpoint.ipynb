{
 "cells": [
  {
   "cell_type": "code",
   "execution_count": 1,
   "id": "f931e4ed-fed2-46e1-bc2f-13bed490bbc8",
   "metadata": {},
   "outputs": [],
   "source": [
    "import pydicom as dcm\n",
    "import os\n",
    "from matplotlib import pyplot as plt\n",
    "from joblib import Parallel, delayed\n",
    "from tqdm import tqdm"
   ]
  },
  {
   "cell_type": "code",
   "execution_count": 2,
   "id": "34504c49-2562-413f-ba4b-018ec123265f",
   "metadata": {},
   "outputs": [],
   "source": [
    "# out_file = '/home/jupyter/rsna-intracranial-hemorrhage-detection/train_ct_scans.csv'\n",
    "# in_path = '/home/kwhom/rsna-intracranial-hemorrhage-detection/stage_2_train/'\n",
    "out_file = '/home/jupyter/rsna-intracranial-hemorrhage-detection/test_ct_scans.csv'\n",
    "in_path = '/home/kwhom/rsna-intracranial-hemorrhage-detection/stage_2_test/'"
   ]
  },
  {
   "cell_type": "code",
   "execution_count": 3,
   "id": "168af4fd-e23e-497f-89e1-ba37cf11c98e",
   "metadata": {},
   "outputs": [],
   "source": [
    "# d = dcm.dcmread(in_path + os.listdir(in_path)[10203])"
   ]
  },
  {
   "cell_type": "code",
   "execution_count": 4,
   "id": "d931483d-a7e5-4e95-9316-c3e991fb4d4b",
   "metadata": {},
   "outputs": [],
   "source": [
    "scans = {}"
   ]
  },
  {
   "cell_type": "code",
   "execution_count": 5,
   "id": "45a1e3c0-2b00-4d54-ba85-2d4248ea7647",
   "metadata": {},
   "outputs": [],
   "source": [
    "def add_to_scans(img_file_name):\n",
    "    # global scans\n",
    "    d = dcm.dcmread(in_path + img_file_name)\n",
    "    img_id, patient_id = img_file_name.split('.')[0], d.PatientID\n",
    "    del d\n",
    "    if patient_id in scans:\n",
    "        scans[patient_id].append(img_id)\n",
    "    else:\n",
    "        scans[patient_id] = [img_id]\n",
    "    del img_id, patient_id"
   ]
  },
  {
   "cell_type": "code",
   "execution_count": 6,
   "id": "6e6e332f-75f9-4ebb-879b-d7057eba3ff6",
   "metadata": {},
   "outputs": [
    {
     "name": "stderr",
     "output_type": "stream",
     "text": [
      "100%|██████████| 121232/121232 [13:42<00:00, 147.47it/s]\n"
     ]
    }
   ],
   "source": [
    "_ = Parallel(n_jobs=12, backend='threading', batch_size=5, require='sharedmem')(delayed(add_to_scans)(img_file_name) for img_file_name in tqdm(os.listdir(in_path)))"
   ]
  },
  {
   "cell_type": "code",
   "execution_count": 7,
   "id": "1d8f5976-4e97-43ff-b48f-18bbca3d9124",
   "metadata": {},
   "outputs": [
    {
     "name": "stderr",
     "output_type": "stream",
     "text": [
      "100%|██████████| 3518/3518 [00:00<00:00, 61082.43it/s]\n"
     ]
    }
   ],
   "source": [
    "import csv\n",
    "with open(out_file, 'w') as output:\n",
    "    writer = csv.writer(output)\n",
    "    for patient_id in tqdm(scans):\n",
    "        writer.writerow([patient_id] + scans[patient_id])"
   ]
  },
  {
   "cell_type": "code",
   "execution_count": null,
   "id": "6bbc0f52-2f93-4517-95cc-78f00cc6834c",
   "metadata": {},
   "outputs": [],
   "source": []
  },
  {
   "cell_type": "code",
   "execution_count": null,
   "id": "30e07342-6fa4-41fd-ac76-6b5df0f2dd49",
   "metadata": {},
   "outputs": [],
   "source": []
  }
 ],
 "metadata": {
  "environment": {
   "kernel": "python3",
   "name": "tf2-gpu.2-7.m86",
   "type": "gcloud",
   "uri": "gcr.io/deeplearning-platform-release/tf2-gpu.2-7:m86"
  },
  "kernelspec": {
   "display_name": "Python 3 (ipykernel)",
   "language": "python",
   "name": "python3"
  },
  "language_info": {
   "codemirror_mode": {
    "name": "ipython",
    "version": 3
   },
   "file_extension": ".py",
   "mimetype": "text/x-python",
   "name": "python",
   "nbconvert_exporter": "python",
   "pygments_lexer": "ipython3",
   "version": "3.9.7"
  }
 },
 "nbformat": 4,
 "nbformat_minor": 5
}
